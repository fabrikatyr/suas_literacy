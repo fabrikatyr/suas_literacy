{
 "metadata": {
  "name": "",
  "signature": "sha256:772726ab35af193d209c55e41de171ca97d960419b3ac83e9eb7404c0d89a283"
 },
 "nbformat": 3,
 "nbformat_minor": 0,
 "worksheets": [
  {
   "cells": [
    {
     "cell_type": "markdown",
     "metadata": {},
     "source": [
      "<div style=\"float:right\"><img src='files/assets/img/Suas_Logo_Header.png'></img></div>\n",
      "\n",
      "## Suas Educational Development - Literacy Intervention Investigation\n",
      "\n",
      "# 01 Data Cleaning and Initial Exploration\n",
      "\n",
      "Contact: Adelaide Nic Chartaigh [adelaide@suas.ie](\"mailto:adelaide@suas.ie\")  \n",
      "Author: Jonathan Sedar [jon.sedar@applied.ai](\"mailto:jon.sedar@applied.ai\")  \n",
      "Date: Spring / Summer 2014\n",
      "\n",
      "This set of notebooks explore, statistically analyse and model the data for the Literacy Intervention Investigation via Open Data Science Ireland (ODSI).\n",
      "\n",
      "* The notebooks are 'reproducable research': embedding code and writeup into a single document that can be executed and interrogated interactively.\n",
      "\n",
      "* The summaries presented in these reports do not contain individually identifying information.\n",
      "\n",
      "\n",
      "#Contents\n",
      "\n",
      "+ [Setup](#Setup)  \n",
      "\n",
      "\n",
      "+ [Import Data](#Import-Data)\n",
      "    + [Remove and Clean Features](#Remove-and-Clean-Features)\n",
      "    \n",
      "    \n",
      "+ [Quick View of Dataset](#Quick-View-of-Dataset)\n"
     ]
    },
    {
     "cell_type": "heading",
     "level": 1,
     "metadata": {},
     "source": [
      "Setup"
     ]
    },
    {
     "cell_type": "code",
     "collapsed": false,
     "input": [
      "## Interactive magics\n",
      "%matplotlib inline\n",
      "%qtconsole --colors=linux --ConsoleWidget.font_size=10 --ConsoleWidget.font_family='Consolas'"
     ],
     "language": "python",
     "metadata": {},
     "outputs": [],
     "prompt_number": 190
    },
    {
     "cell_type": "code",
     "collapsed": false,
     "input": [
      "## Libraries and global options\n",
      "from __future__ import division, print_function\n",
      "import os\n",
      "import sys\n",
      "import re\n",
      "import string\n",
      "\n",
      "import pandas as pd\n",
      "import numpy as np\n",
      "import scipy as sp\n",
      "import matplotlib.pyplot as plt\n",
      "from matplotlib import cm\n",
      "import sqlite3\n",
      "\n",
      "#from sklearn.covariance import MinCovDet\n",
      "#from sklearn.preprocessing import Normalizer\n",
      "#from collections import OrderedDict\n",
      "\n",
      "# Set some default pandas and plotting formatting\n",
      "pd.set_option('display.max_columns', 500)\n",
      "pd.set_option('display.max_rows', 1000)\n",
      "pd.set_option('display.width', 1000)\n",
      "pd.set_option('display.mpl_style', 'default')\n",
      "pd.set_option('display.notebook_repr_html', True)\n",
      "pd.set_option('display.expand_frame_repr', True)\n",
      "pd.set_option('display.precision', 5)\n",
      "pd.set_option('display.max_colwidth', 50)\n",
      "\n",
      "plt.rcParams['figure.figsize'] = 6, 6\n",
      "\n",
      "# handle temporary deprecation warning in pandas for describe()\n",
      "import warnings\n",
      "warnings.simplefilter(\"ignore\", DeprecationWarning)\n",
      "warnings.simplefilter(\"ignore\", UserWarning)\n",
      "warnings.simplefilter(\"ignore\", FutureWarning)\n",
      "warnings.simplefilter(\"ignore\", RuntimeWarning)\n",
      "\n",
      "remove_punct_map = dict.fromkeys(map(ord, string.punctuation))"
     ],
     "language": "python",
     "metadata": {},
     "outputs": [],
     "prompt_number": 191
    },
    {
     "cell_type": "heading",
     "level": 1,
     "metadata": {},
     "source": [
      "Import Data"
     ]
    },
    {
     "cell_type": "code",
     "collapsed": false,
     "input": [
      "## Import raw data and quick look\n",
      "\n",
      "raw = pd.read_excel('data/SUAS_data_master_v001_tcc.xlsx',sheetname=1)\n",
      "raw.rename(columns=lambda s: s.translate(remove_punct_map), inplace=True)\n",
      "raw.rename(columns=lambda x: '_'.join(x.lower().split()), inplace=True)\n",
      "\n",
      "raw.head()"
     ],
     "language": "python",
     "metadata": {},
     "outputs": [
      {
       "html": [
        "<div style=\"max-height:1000px;max-width:1500px;overflow:auto;\">\n",
        "<table border=\"1\" class=\"dataframe\">\n",
        "  <thead>\n",
        "    <tr style=\"text-align: right;\">\n",
        "      <th></th>\n",
        "      <th>id</th>\n",
        "      <th>code</th>\n",
        "      <th>ind</th>\n",
        "      <th>schoolid</th>\n",
        "      <th>gender</th>\n",
        "      <th>testtype</th>\n",
        "      <th>date</th>\n",
        "      <th>date1</th>\n",
        "      <th>preorpost</th>\n",
        "      <th>test</th>\n",
        "      <th>dob</th>\n",
        "      <th>age_at_test</th>\n",
        "      <th>age</th>\n",
        "      <th>raw_score</th>\n",
        "      <th>staard_score</th>\n",
        "      <th>percentile</th>\n",
        "      <th>test_color</th>\n",
        "      <th>reading_age</th>\n",
        "    </tr>\n",
        "  </thead>\n",
        "  <tbody>\n",
        "    <tr>\n",
        "      <th>0</th>\n",
        "      <td>NaN</td>\n",
        "      <td> JoeA</td>\n",
        "      <td> C001</td>\n",
        "      <td> St. Joesephs</td>\n",
        "      <td> NaN</td>\n",
        "      <td> Acceleread_AcceleWrite</td>\n",
        "      <td> 2014-01-01 00:00:00</td>\n",
        "      <td>2014-01-01</td>\n",
        "      <td> Pre</td>\n",
        "      <td> Reading</td>\n",
        "      <td> NaN</td>\n",
        "      <td>  8y 11m</td>\n",
        "      <td>  8.9167</td>\n",
        "      <td>NaN</td>\n",
        "      <td> 83</td>\n",
        "      <td> 13th </td>\n",
        "      <td> NaN</td>\n",
        "      <td> NaN</td>\n",
        "    </tr>\n",
        "    <tr>\n",
        "      <th>1</th>\n",
        "      <td>NaN</td>\n",
        "      <td> JoeB</td>\n",
        "      <td> C002</td>\n",
        "      <td> St. Joesephs</td>\n",
        "      <td> NaN</td>\n",
        "      <td> Acceleread_AcceleWrite</td>\n",
        "      <td> 2014-01-01 00:00:00</td>\n",
        "      <td>2014-01-01</td>\n",
        "      <td> Pre</td>\n",
        "      <td> Reading</td>\n",
        "      <td> NaN</td>\n",
        "      <td>   9y 6m</td>\n",
        "      <td>  9.5000</td>\n",
        "      <td>NaN</td>\n",
        "      <td> 82</td>\n",
        "      <td> 12th </td>\n",
        "      <td> NaN</td>\n",
        "      <td> NaN</td>\n",
        "    </tr>\n",
        "    <tr>\n",
        "      <th>2</th>\n",
        "      <td>NaN</td>\n",
        "      <td> JoeC</td>\n",
        "      <td> C003</td>\n",
        "      <td> St. Joesephs</td>\n",
        "      <td> NaN</td>\n",
        "      <td> Acceleread_AcceleWrite</td>\n",
        "      <td> 2014-01-01 00:00:00</td>\n",
        "      <td>2014-01-01</td>\n",
        "      <td> Pre</td>\n",
        "      <td> Reading</td>\n",
        "      <td> NaN</td>\n",
        "      <td> 10y 11m</td>\n",
        "      <td> 10.9167</td>\n",
        "      <td>NaN</td>\n",
        "      <td> 73</td>\n",
        "      <td>   4th</td>\n",
        "      <td> NaN</td>\n",
        "      <td> NaN</td>\n",
        "    </tr>\n",
        "    <tr>\n",
        "      <th>3</th>\n",
        "      <td>NaN</td>\n",
        "      <td> JoeD</td>\n",
        "      <td> C004</td>\n",
        "      <td> St. Joesephs</td>\n",
        "      <td> NaN</td>\n",
        "      <td> Acceleread_AcceleWrite</td>\n",
        "      <td> 2014-01-01 00:00:00</td>\n",
        "      <td>2014-01-01</td>\n",
        "      <td> Pre</td>\n",
        "      <td> Reading</td>\n",
        "      <td> NaN</td>\n",
        "      <td>  10y 4m</td>\n",
        "      <td> 10.3333</td>\n",
        "      <td>NaN</td>\n",
        "      <td> 87</td>\n",
        "      <td>  19th</td>\n",
        "      <td> NaN</td>\n",
        "      <td> NaN</td>\n",
        "    </tr>\n",
        "    <tr>\n",
        "      <th>4</th>\n",
        "      <td>NaN</td>\n",
        "      <td> JoeE</td>\n",
        "      <td> C005</td>\n",
        "      <td> St. Joesephs</td>\n",
        "      <td> NaN</td>\n",
        "      <td> Acceleread_AcceleWrite</td>\n",
        "      <td> 2014-01-01 00:00:00</td>\n",
        "      <td>2014-01-01</td>\n",
        "      <td> Pre</td>\n",
        "      <td> Reading</td>\n",
        "      <td> NaN</td>\n",
        "      <td>   9y 1m</td>\n",
        "      <td>  9.0833</td>\n",
        "      <td>NaN</td>\n",
        "      <td> 85</td>\n",
        "      <td>  16th</td>\n",
        "      <td> NaN</td>\n",
        "      <td> NaN</td>\n",
        "    </tr>\n",
        "  </tbody>\n",
        "</table>\n",
        "</div>"
       ],
       "metadata": {},
       "output_type": "pyout",
       "prompt_number": 192,
       "text": [
        "   id  code   ind      schoolid gender                testtype                 date      date1 preorpost     test  dob age_at_test      age  raw_score  staard_score percentile test_color reading_age\n",
        "0 NaN  JoeA  C001  St. Joesephs    NaN  Acceleread_AcceleWrite  2014-01-01 00:00:00 2014-01-01       Pre  Reading  NaN      8y 11m   8.9167        NaN            83      13th         NaN         NaN\n",
        "1 NaN  JoeB  C002  St. Joesephs    NaN  Acceleread_AcceleWrite  2014-01-01 00:00:00 2014-01-01       Pre  Reading  NaN       9y 6m   9.5000        NaN            82      12th         NaN         NaN\n",
        "2 NaN  JoeC  C003  St. Joesephs    NaN  Acceleread_AcceleWrite  2014-01-01 00:00:00 2014-01-01       Pre  Reading  NaN     10y 11m  10.9167        NaN            73        4th        NaN         NaN\n",
        "3 NaN  JoeD  C004  St. Joesephs    NaN  Acceleread_AcceleWrite  2014-01-01 00:00:00 2014-01-01       Pre  Reading  NaN      10y 4m  10.3333        NaN            87       19th        NaN         NaN\n",
        "4 NaN  JoeE  C005  St. Joesephs    NaN  Acceleread_AcceleWrite  2014-01-01 00:00:00 2014-01-01       Pre  Reading  NaN       9y 1m   9.0833        NaN            85       16th        NaN         NaN"
       ]
      }
     ],
     "prompt_number": 192
    },
    {
     "cell_type": "heading",
     "level": 2,
     "metadata": {},
     "source": [
      "Remove and Clean Features"
     ]
    },
    {
     "cell_type": "code",
     "collapsed": false,
     "input": [
      "df = raw.copy()\n",
      "\n",
      "## Remove dupe columns\n",
      "df.drop(['id','age_at_test','date','reading_age'],axis=1,inplace=True)"
     ],
     "language": "python",
     "metadata": {},
     "outputs": [],
     "prompt_number": 332
    },
    {
     "cell_type": "markdown",
     "metadata": {},
     "source": [
      "### Ordinals: lowercasing, null handling"
     ]
    },
    {
     "cell_type": "code",
     "collapsed": false,
     "input": [
      "# simple lowercasing and null removal\n",
      "for feat in ['gender','preorpost', 'test','test_color']:\n",
      "    df[feat] = df[feat].apply(lambda x: x.lower().strip() if pd.isnull(x) == False else \"unknown\")\n",
      "    print('\\n{}\\n'.format(df.groupby(feat).size()))"
     ],
     "language": "python",
     "metadata": {},
     "outputs": [
      {
       "output_type": "stream",
       "stream": "stdout",
       "text": [
        "\n",
        "gender\n",
        "f          234\n",
        "female     246\n",
        "m          228\n",
        "male       182\n",
        "unknown     84\n",
        "dtype: int64\n",
        "\n",
        "\n",
        "preorpost\n",
        "post         493\n",
        "pre          481\n",
        "dtype: int64\n",
        "\n",
        "\n",
        "test\n",
        "grt          26\n",
        "reading     588\n",
        "spelling    360\n",
        "dtype: int64\n",
        "\n",
        "\n",
        "test_color\n",
        "a               6\n",
        "b               6\n",
        "blue          298\n",
        "green         286\n",
        "unknown       378\n",
        "dtype: int64\n",
        "\n"
       ]
      }
     ],
     "prompt_number": 333
    },
    {
     "cell_type": "markdown",
     "metadata": {},
     "source": [
      "### Ordinals: custom value alignment"
     ]
    },
    {
     "cell_type": "code",
     "collapsed": false,
     "input": [
      "## gender\n",
      "df.loc[df.gender == 'male','gender'] = 'm'\n",
      "df.loc[df.gender == 'female','gender'] = 'f'\n",
      "df.groupby('gender').size()"
     ],
     "language": "python",
     "metadata": {},
     "outputs": [
      {
       "metadata": {},
       "output_type": "pyout",
       "prompt_number": 334,
       "text": [
        "gender\n",
        "f          480\n",
        "m          410\n",
        "unknown     84\n",
        "dtype: int64"
       ]
      }
     ],
     "prompt_number": 334
    },
    {
     "cell_type": "markdown",
     "metadata": {},
     "source": [
      "### Floats: rounding"
     ]
    },
    {
     "cell_type": "code",
     "collapsed": false,
     "input": [
      "## age\n",
      "df['age'] = df['age'].apply(lambda x : round(x,2))"
     ],
     "language": "python",
     "metadata": {},
     "outputs": [],
     "prompt_number": 335
    },
    {
     "cell_type": "markdown",
     "metadata": {},
     "source": [
      "### Clean up dtypes"
     ]
    },
    {
     "cell_type": "code",
     "collapsed": false,
     "input": [
      "### what's left with NaNs?\n",
      "for feat in df.columns.values:\n",
      "    print('{}: {}: {}'.format(feat,df.loc[pd.isnull(df[feat])].shape[0],df[feat].dtype))"
     ],
     "language": "python",
     "metadata": {},
     "outputs": [
      {
       "output_type": "stream",
       "stream": "stdout",
       "text": [
        "code: 0: object\n",
        "ind: 0: object\n",
        "schoolid: 0: object\n",
        "gender: 0: object\n",
        "testtype: 0: object\n",
        "date1: 0: datetime64[ns]\n",
        "preorpost: 0: object\n",
        "test: 0: object\n",
        "dob: 518: object\n",
        "age: 220: float64\n",
        "raw_score: 335: float64\n",
        "staard_score: 210: float64\n",
        "percentile: 891: object\n",
        "test_color: 0: object\n"
       ]
      }
     ],
     "prompt_number": 336
    },
    {
     "cell_type": "code",
     "collapsed": false,
     "input": [
      "## drop percentile and dob for now, they're missing too much\n",
      "df.drop(['dob','percentile'],axis=1,inplace=True)"
     ],
     "language": "python",
     "metadata": {},
     "outputs": [],
     "prompt_number": 337
    },
    {
     "cell_type": "code",
     "collapsed": false,
     "input": [
      "## drop entries without a score\n",
      "df.dropna(inplace=True)"
     ],
     "language": "python",
     "metadata": {},
     "outputs": [],
     "prompt_number": 338
    },
    {
     "cell_type": "markdown",
     "metadata": {},
     "source": [
      "### Remove codes where there is not both a pre and post score"
     ]
    },
    {
     "cell_type": "code",
     "collapsed": false,
     "input": [
      "## set index, group by and count for 2 tests, remove all other samples\n",
      "df.set_index(['code','test'], inplace=True)\n",
      "df.sortlevel(inplace=True)\n",
      "ntests = df.groupby(df.index).size()"
     ],
     "language": "python",
     "metadata": {},
     "outputs": [],
     "prompt_number": 339
    },
    {
     "cell_type": "code",
     "collapsed": false,
     "input": [
      "## remove rows where only 1 pre or post\n",
      "for tup in ntests[ntests == 1].index:\n",
      "    dfr = df.drop(tup)"
     ],
     "language": "python",
     "metadata": {},
     "outputs": [],
     "prompt_number": 340
    },
    {
     "cell_type": "code",
     "collapsed": false,
     "input": [
      "ntests.describe()"
     ],
     "language": "python",
     "metadata": {},
     "outputs": [
      {
       "metadata": {},
       "output_type": "pyout",
       "prompt_number": 341,
       "text": [
        "count    246.0000\n",
        "mean       1.9959\n",
        "std        0.2927\n",
        "min        1.0000\n",
        "25%        2.0000\n",
        "50%        2.0000\n",
        "75%        2.0000\n",
        "max        3.0000\n",
        "dtype: float64"
       ]
      }
     ],
     "prompt_number": 341
    },
    {
     "cell_type": "code",
     "collapsed": false,
     "input": [
      "## who has 3 ??\n",
      "for tup in ntests[ntests > 2].index:\n",
      "    print(dfr.loc[tup])"
     ],
     "language": "python",
     "metadata": {},
     "outputs": [
      {
       "output_type": "stream",
       "stream": "stdout",
       "text": [
        "                       ind schoolid gender    testtype      date1 preorpost    age  raw_score  staard_score test_color\n",
        "code         test                                                                                                     \n",
        "STJoePRstj13 reading  C126  StJOEPR      m  Group_WRAT 2013-10-07       pre   9.59         35            92       blue\n",
        "             reading  C138  StJOEPR      m  Group_WRAT 2013-12-05      post   9.75         36            95      green\n",
        "             reading  C150  StJOEPR      m  Group_WRAT 2014-04-02      post  10.07         39            93       blue\n",
        "                       ind schoolid gender    testtype      date1 preorpost   age  raw_score  staard_score test_color\n",
        "code         test                                                                                                    \n",
        "STJoePRstj14 reading  C127  StJOEPR      f  Group_WRAT 2013-10-07       pre  9.16         37            97       blue\n",
        "             reading  C139  StJOEPR      f  Group_WRAT 2013-12-05      post  9.32         35            96      green\n",
        "             reading  C151  StJOEPR      f  Group_WRAT 2014-04-02      post  9.64         40            96       blue\n",
        "                       ind schoolid gender    testtype      date1 preorpost   age  raw_score  staard_score test_color\n",
        "code         test                                                                                                    \n",
        "STJoePRstj16 reading  C129  StJOEPR      f  Group_WRAT 2013-10-07       pre  8.72         38           102       blue\n",
        "             reading  C141  StJOEPR      f  Group_WRAT 2013-12-05      post  8.88         34           100      green\n",
        "             reading  C153  StJOEPR      f  Group_WRAT 2014-04-02      post  9.20         42           105       blue\n",
        "                       ind schoolid gender    testtype      date1 preorpost   age  raw_score  staard_score test_color\n",
        "code         test                                                                                                    \n",
        "STJoePRstj17 reading  C130  StJOEPR      m  Group_WRAT 2013-10-07       pre  9.45         41           100       blue\n",
        "             reading  C142  StJOEPR      m  Group_WRAT 2013-12-05      post  9.62         43           106      green\n",
        "             reading  C154  StJOEPR      m  Group_WRAT 2014-04-02      post  9.94         39            93       blue\n",
        "                       ind schoolid gender    testtype      date1 preorpost   age  raw_score  staard_score test_color\n",
        "code         test                                                                                                    \n",
        "STJoePRstj18 reading  C131  StJOEPR      m  Group_WRAT 2013-10-07       pre  9.03         38            99       blue\n",
        "             reading  C143  StJOEPR      m  Group_WRAT 2013-12-05      post  9.19         39           105      green\n",
        "             reading  C155  StJOEPR      m  Group_WRAT 2014-04-02      post  9.51         45           106       blue\n",
        "                       ind schoolid gender    testtype      date1 preorpost    age  raw_score  staard_score test_color\n",
        "code         test                                                                                                     \n",
        "STJoePRstj19 reading  C132  StJOEPR      m  Group_WRAT 2013-10-07       pre  10.05         46           103       blue\n",
        "             reading  C144  StJOEPR      m  Group_WRAT 2013-12-05      post  10.21         50           116      green\n",
        "             reading  C156  StJOEPR      m  Group_WRAT 2014-04-02      post  10.53         48           104       blue"
       ]
      },
      {
       "output_type": "stream",
       "stream": "stdout",
       "text": [
        "\n",
        "                       ind schoolid gender    testtype      date1 preorpost    age  raw_score  staard_score test_color\n",
        "code         test                                                                                                     \n",
        "STJoePRstj20 reading  C133  StJOEPR      f  Group_WRAT 2013-10-07       pre   9.61         42           102       blue\n",
        "             reading  C145  StJOEPR      f  Group_WRAT 2013-12-05      post   9.77         36            95      green\n",
        "             reading  C157  StJOEPR      f  Group_WRAT 2014-04-02      post  10.09         43            98       blue\n",
        "                       ind schoolid gender    testtype      date1 preorpost    age  raw_score  staard_score test_color\n",
        "code         test                                                                                                     \n",
        "STJoePRstj21 reading  C134  StJOEPR      m  Group_WRAT 2013-10-07       pre  10.27         48           106       blue\n",
        "             reading  C146  StJOEPR      m  Group_WRAT 2013-12-05      post  10.43         43           102      green\n",
        "             reading  C158  StJOEPR      m  Group_WRAT 2014-04-02      post  10.75         48           103       blue\n",
        "                       ind schoolid gender    testtype      date1 preorpost    age  raw_score  staard_score test_color\n",
        "code         test                                                                                                     \n",
        "STJoePRstj23 reading  C136  StJOEPR      f  Group_WRAT 2013-10-07       pre   9.85         41            98       blue\n",
        "             reading  C148  StJOEPR      f  Group_WRAT 2013-12-05      post  10.01         39            98      green\n",
        "             reading  C160  StJOEPR      f  Group_WRAT 2014-04-02      post  10.34         40            93       blue\n",
        "                       ind schoolid gender    testtype      date1 preorpost    age  raw_score  staard_score test_color\n",
        "code         test                                                                                                     \n",
        "STJoePRstj24 reading  C137  StJOEPR      f  Group_WRAT 2013-10-07       pre   9.88         46           106       blue\n",
        "             reading  C149  StJOEPR      f  Group_WRAT 2013-12-05      post  10.05         44           105      green\n",
        "             reading  C161  StJOEPR      f  Group_WRAT 2014-04-02      post  10.37         47           103       blue\n"
       ]
      }
     ],
     "prompt_number": 342
    },
    {
     "cell_type": "code",
     "collapsed": false,
     "input": [],
     "language": "python",
     "metadata": {},
     "outputs": []
    },
    {
     "cell_type": "code",
     "collapsed": false,
     "input": [
      "## just for now, remove the third entry\n",
      "\n",
      "# stack the 2's\n",
      "df2s = dfr.copy()\n",
      "df2s.drop(df2s.index,inplace=True)\n",
      "for tup in ntests[ntests == 2].index:\n",
      "    df2s = pd.concat([df2s,dfr.loc[tup]],axis=0)\n",
      "\n",
      "# stack the 3's    \n",
      "df3s = dfr.copy()\n",
      "df3s.drop(df3s.index,inplace=True)\n",
      "for tup in ntests[ntests == 3].index:\n",
      "    dfrr = dfr.loc[tup].copy()\n",
      "    df3s = pd.concat([df3s,dfrr.loc[((dfrr.preorpost=='post') & (dfrr.test_color=='blue')) == False]],axis=0)\n",
      "\n",
      "# stack back together    \n",
      "df_clean = pd.concat([df2s,df3s],axis=0)    "
     ],
     "language": "python",
     "metadata": {},
     "outputs": []
    },
    {
     "cell_type": "markdown",
     "metadata": {},
     "source": [
      "### Write cleaned data to SQL DB for temporary storage"
     ]
    },
    {
     "cell_type": "code",
     "collapsed": false,
     "input": [
      "## write to local sqlite file\n",
      "cnx_sql3 = sqlite3.connect('data/SUAS_data_master_v001_tcc_cleaned.db')\n",
      "cnx_sql3.text_factory = str\n",
      "df_clean['date1'] = df_clean['date1'].apply(str)\n",
      "df_clean.to_sql('df_clean',cnx_sql3,if_exists='replace')\n",
      "cnx_sql3.close()"
     ],
     "language": "python",
     "metadata": {},
     "outputs": [],
     "prompt_number": 358
    },
    {
     "cell_type": "markdown",
     "metadata": {},
     "source": [
      "---"
     ]
    },
    {
     "cell_type": "heading",
     "level": 1,
     "metadata": {},
     "source": [
      "Quick View of Dataset"
     ]
    },
    {
     "cell_type": "code",
     "collapsed": false,
     "input": [
      "## Read cleaned dataset back from db\n",
      "cnx_sql3 = sqlite3.connect('data/SUAS_data_master_v001_tcc_cleaned.db')\n",
      "cnx_sql3.text_factory = str\n",
      "dfc = pd.read_sql('select * from df_clean', cnx_sql3, index_col='code', parse_dates='date1')\n",
      "cnx_sql3.close()\n",
      "\n",
      "print(dfc.shape)\n",
      "dfc.head()"
     ],
     "language": "python",
     "metadata": {},
     "outputs": [
      {
       "output_type": "stream",
       "stream": "stdout",
       "text": [
        "(470, 12)\n"
       ]
      },
      {
       "html": [
        "<div style=\"max-height:1000px;max-width:1500px;overflow:auto;\">\n",
        "<table border=\"1\" class=\"dataframe\">\n",
        "  <thead>\n",
        "    <tr style=\"text-align: right;\">\n",
        "      <th></th>\n",
        "      <th>index</th>\n",
        "      <th>test</th>\n",
        "      <th>ind</th>\n",
        "      <th>schoolid</th>\n",
        "      <th>gender</th>\n",
        "      <th>testtype</th>\n",
        "      <th>date1</th>\n",
        "      <th>preorpost</th>\n",
        "      <th>age</th>\n",
        "      <th>raw_score</th>\n",
        "      <th>staard_score</th>\n",
        "      <th>test_color</th>\n",
        "    </tr>\n",
        "    <tr>\n",
        "      <th>code</th>\n",
        "      <th></th>\n",
        "      <th></th>\n",
        "      <th></th>\n",
        "      <th></th>\n",
        "      <th></th>\n",
        "      <th></th>\n",
        "      <th></th>\n",
        "      <th></th>\n",
        "      <th></th>\n",
        "      <th></th>\n",
        "      <th></th>\n",
        "      <th></th>\n",
        "    </tr>\n",
        "  </thead>\n",
        "  <tbody>\n",
        "    <tr>\n",
        "      <th>NDMS_ARAWm01</th>\n",
        "      <td> 0</td>\n",
        "      <td> reading</td>\n",
        "      <td> C078</td>\n",
        "      <td> NDMS_ARAW</td>\n",
        "      <td> m</td>\n",
        "      <td> Acceleread_AcceleWrite</td>\n",
        "      <td>2013-10-21</td>\n",
        "      <td>  pre</td>\n",
        "      <td>  9.22</td>\n",
        "      <td> 27</td>\n",
        "      <td> 85</td>\n",
        "      <td> green</td>\n",
        "    </tr>\n",
        "    <tr>\n",
        "      <th>NDMS_ARAWm01</th>\n",
        "      <td> 1</td>\n",
        "      <td> reading</td>\n",
        "      <td> C090</td>\n",
        "      <td> NDMS_ARAW</td>\n",
        "      <td> m</td>\n",
        "      <td> Acceleread_AcceleWrite</td>\n",
        "      <td>2013-11-29</td>\n",
        "      <td> post</td>\n",
        "      <td>  9.33</td>\n",
        "      <td> 31</td>\n",
        "      <td> 89</td>\n",
        "      <td>  blue</td>\n",
        "    </tr>\n",
        "    <tr>\n",
        "      <th>NDMS_ARAWm02</th>\n",
        "      <td> 2</td>\n",
        "      <td> reading</td>\n",
        "      <td> C079</td>\n",
        "      <td> NDMS_ARAW</td>\n",
        "      <td> m</td>\n",
        "      <td> Acceleread_AcceleWrite</td>\n",
        "      <td>2013-10-21</td>\n",
        "      <td>  pre</td>\n",
        "      <td>  9.98</td>\n",
        "      <td> 37</td>\n",
        "      <td> 97</td>\n",
        "      <td> green</td>\n",
        "    </tr>\n",
        "    <tr>\n",
        "      <th>NDMS_ARAWm02</th>\n",
        "      <td> 3</td>\n",
        "      <td> reading</td>\n",
        "      <td> C091</td>\n",
        "      <td> NDMS_ARAW</td>\n",
        "      <td> m</td>\n",
        "      <td> Acceleread_AcceleWrite</td>\n",
        "      <td>2013-11-29</td>\n",
        "      <td> post</td>\n",
        "      <td> 10.08</td>\n",
        "      <td> 40</td>\n",
        "      <td> 94</td>\n",
        "      <td>  blue</td>\n",
        "    </tr>\n",
        "    <tr>\n",
        "      <th>NDMS_ARAWm03</th>\n",
        "      <td> 4</td>\n",
        "      <td> reading</td>\n",
        "      <td> C080</td>\n",
        "      <td> NDMS_ARAW</td>\n",
        "      <td> m</td>\n",
        "      <td> Acceleread_AcceleWrite</td>\n",
        "      <td>2013-10-21</td>\n",
        "      <td>  pre</td>\n",
        "      <td> 10.05</td>\n",
        "      <td> 27</td>\n",
        "      <td> 80</td>\n",
        "      <td> green</td>\n",
        "    </tr>\n",
        "  </tbody>\n",
        "</table>\n",
        "</div>"
       ],
       "metadata": {},
       "output_type": "pyout",
       "prompt_number": 359,
       "text": [
        "              index     test   ind   schoolid gender                testtype      date1 preorpost    age  raw_score  staard_score test_color\n",
        "code                                                                                                                                        \n",
        "NDMS_ARAWm01      0  reading  C078  NDMS_ARAW      m  Acceleread_AcceleWrite 2013-10-21       pre   9.22         27            85      green\n",
        "NDMS_ARAWm01      1  reading  C090  NDMS_ARAW      m  Acceleread_AcceleWrite 2013-11-29      post   9.33         31            89       blue\n",
        "NDMS_ARAWm02      2  reading  C079  NDMS_ARAW      m  Acceleread_AcceleWrite 2013-10-21       pre   9.98         37            97      green\n",
        "NDMS_ARAWm02      3  reading  C091  NDMS_ARAW      m  Acceleread_AcceleWrite 2013-11-29      post  10.08         40            94       blue\n",
        "NDMS_ARAWm03      4  reading  C080  NDMS_ARAW      m  Acceleread_AcceleWrite 2013-10-21       pre  10.05         27            80      green"
       ]
      }
     ],
     "prompt_number": 359
    },
    {
     "cell_type": "code",
     "collapsed": false,
     "input": [],
     "language": "python",
     "metadata": {},
     "outputs": []
    },
    {
     "cell_type": "code",
     "collapsed": false,
     "input": [],
     "language": "python",
     "metadata": {},
     "outputs": []
    },
    {
     "cell_type": "markdown",
     "metadata": {},
     "source": [
      "---\n",
      "\n",
      "_copyleft_ **Open Data Science Ireland Meetup Group 2014**  \n",
      "<a href='http://www.meetup.com/opendatascienceireland/'>ODSI@meetup.com</a>"
     ]
    }
   ],
   "metadata": {}
  }
 ]
}